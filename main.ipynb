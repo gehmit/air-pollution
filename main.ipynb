{
 "cells": [
  {
   "cell_type": "code",
   "execution_count": null,
   "metadata": {},
   "outputs": [],
   "source": [
    "import numpy as np \n",
    "import pandas as pd \n",
    "import seaborn as sns \n",
    "import matplotlib.pyplot as plt "
   ]
  },
  {
   "cell_type": "code",
   "execution_count": null,
   "id": "7e57fcbc",
   "metadata": {},
   "outputs": [],
   "source": [
    "df = pd.read_csv('data/train/Train.csv')\n",
    "df.head()"
   ]
  },
  {
   "cell_type": "code",
   "execution_count": null,
   "id": "c58228de",
   "metadata": {},
   "outputs": [],
   "source": [
    "df.columns"
   ]
  },
  {
   "cell_type": "code",
   "execution_count": null,
   "id": "1c0eab20",
   "metadata": {},
   "outputs": [],
   "source": [
    "df.info()"
   ]
  },
  {
   "cell_type": "code",
   "execution_count": null,
   "id": "9f10e7c0",
   "metadata": {},
   "outputs": [],
   "source": [
    "\n",
    "plt.scatter(df['temperature_2m_above_ground'], df['target'])\n",
    "plt.xlabel('Temperature (2m above ground)')\n",
    "plt.ylabel('Target')\n",
    "plt.title('Scatter Plot: Temperature vs Target')\n",
    "plt.show()"
   ]
  },
  {
   "cell_type": "code",
   "execution_count": null,
   "id": "6af58bec",
   "metadata": {},
   "outputs": [],
   "source": [
    "df.isnull().sum()/len(df)"
   ]
  },
  {
   "cell_type": "code",
   "execution_count": null,
   "id": "854eea87",
   "metadata": {},
   "outputs": [],
   "source": [
    "df.describe()"
   ]
  },
  {
   "cell_type": "code",
   "execution_count": null,
   "id": "7bd96720",
   "metadata": {},
   "outputs": [],
   "source": [
    "plt.hist(df['target'], bins=20, color='skyblue', edgecolor='black')\n",
    "plt.xlabel('Target')\n",
    "plt.ylabel('Frequency')\n",
    "plt.title('Histogram of Target')\n",
    "plt.show()\n"
   ]
  },
  {
   "cell_type": "code",
   "execution_count": null,
   "id": "6e12510e",
   "metadata": {},
   "outputs": [],
   "source": [
    "sns.boxplot(x=df['precipitable_water_entire_atmosphere'])\n",
    "plt.xlabel('Precipitable Water Entire Atmosphere')\n",
    "plt.title('Box Plot of Precipitable Water')\n",
    "plt.show()"
   ]
  },
  {
   "cell_type": "code",
   "execution_count": null,
   "id": "c4849812",
   "metadata": {},
   "outputs": [],
   "source": [
    "\n",
    "columns_for_heatmap = ['target', 'temperature_2m_above_ground', 'relative_humidity_2m_above_ground']\n",
    "\n",
    "# Exemple avec les colonnes sélectionnées\n",
    "sns.heatmap(df[columns_for_heatmap].corr(), annot=True, cmap='coolwarm')\n",
    "plt.title('Heatmap de corrélations')\n",
    "plt.show()\n"
   ]
  },
  {
   "cell_type": "code",
   "execution_count": null,
   "id": "567fd766",
   "metadata": {},
   "outputs": [],
   "source": [
    "df.hist(bins=20, figsize=(20, 15))\n",
    "plt.suptitle('Histogrammes des colonnes numériques', fontsize=16)\n",
    "plt.show()"
   ]
  }
 ],
 "metadata": {
  "kernelspec": {
   "display_name": "Python 3",
   "language": "python",
   "name": "python3"
  },
  "language_info": {
   "codemirror_mode": {
    "name": "ipython",
    "version": 3
   },
   "file_extension": ".py",
   "mimetype": "text/x-python",
   "name": "python",
   "nbconvert_exporter": "python",
   "pygments_lexer": "ipython3",
   "version": "3.10.7"
  }
 },
 "nbformat": 4,
 "nbformat_minor": 5
}
